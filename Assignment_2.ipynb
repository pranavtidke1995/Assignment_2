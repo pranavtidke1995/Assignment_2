{
  "nbformat": 4,
  "nbformat_minor": 0,
  "metadata": {
    "colab": {
      "provenance": []
    },
    "kernelspec": {
      "name": "python3",
      "display_name": "Python 3"
    },
    "language_info": {
      "name": "python"
    }
  },
  "cells": [
    {
      "cell_type": "markdown",
      "source": [
        "\n",
        "1. What are data structures, and why are they important?\n",
        "  - Data structures are specialized formats for organizing and storing data in computers. They are the building blocks of efficient algorithms and programs. Think of them as containers that hold data in a specific way, allowing for easy access and manipulation.\n",
        "  *Importance:\n",
        "  .Efficient Algorithms: Data structures are closely linked to algorithms. The choice of data structure can significantly impact the efficiency (time and space complexity) of an algorithm.\n",
        "  .Data Organization: They provide a structured way to organize data, making it easier to manage and retrieve information.\n",
        "  .Memory Management: Data structures help optimize memory usage by storing data in a compact and efficient manner.\n",
        "\n",
        "2. Explain the difference between mutable and immutable data types with examples?\n",
        " - * Mutable Data Types:\n",
        " Mutable data types can be modified after they are created. This means you can add, remove, or change elements within the data structure.  \n",
        "  Examples:\n",
        "  .Lists: [1, 2, 3]\n",
        "  .Dictionaries: { 'name': 'Alice', 'age': 30 }\n",
        "  .Sets: {1, 2, 3}\n",
        "  * Immutable Data Types:\n",
        "  Immutable data types cannot be changed after they are created. Any operation that appears to change an immutable object actually creates a new object with the modified value.\n",
        "  Examples:\n",
        "  .Numbers: 10, 3.14\n",
        "  .Strings: \"hello\"\n",
        "  .Tuples: (1, 2, 3)\n",
        "\n",
        "3. What are the main differences between lists and tuples in Python?\n",
        " - 1) Mutability:\n",
        "   *Lists: Mutable, meaning their elements can be changed, added, or removed after creation.\n",
        "   *Tuples: Immutable, meaning their elements cannot be changed once they are created.\n",
        "\n",
        "    2) Syntax:\n",
        "\n",
        "     *Lists: Defined using square brackets [].\n",
        "     *Tuples: Defined using parentheses ().\n",
        "\n",
        "    3)Performance:\n",
        "\n",
        "     *Tuples: Generally faster than lists due to their immutability, which allows for more efficient memory management and faster lookups.\n",
        "     *Lists: Can be slower for certain operations due to the overhead of managing changes to the underlying data structure.  \n",
        "\n",
        "\n",
        "4. Describe how dictionaries store data?\n",
        " - Dictionaries in Python are implemented using a data structure called a hash table. This structure allows for incredibly fast lookups of values based on their associated keys.\n",
        "   Conceptual Overview:\n",
        "  * Structure: A dictionary maps a unique key to a specific value. This allows fast access to values when you know the associated key.\n",
        "  *Example: {\"name\": \"Alice\", \"age\": 25}\n",
        "    Key: \"name\", Value: \"Alice\"\n",
        "    Key: \"age\", Value: 25\n",
        "  *Access: You can retrieve a value using its key in constant time (on average).\n",
        "Example: person[\"name\"] retrieves \"Alice\".\n",
        "\n",
        "\n",
        "5. Why might you use a set instead of a list in Python?\n",
        " - You'd choose a set over a list in Python for several key reasons:\n",
        "\n",
        " *Eliminating Duplicates:\n",
        " Sets inherently store only unique elements.\n",
        " If you need to ensure no duplicates exist in your data, a set is the perfect choice.\n",
        "\n",
        " *Fast Membership Tests:\n",
        " Sets use a hash-based implementation, making the in operator incredibly fast.\n",
        " Checking if an element exists within a set is significantly quicker than searching through a list, especially for large datasets.\n",
        "\n",
        " *Set Operations:\n",
        " Sets support efficient set operations like:\n",
        " Union: Combining elements from two sets.\n",
        "Intersection: Finding common elements between two sets.\n",
        "Difference: Finding elements in one set but not in another.\n",
        "Symmetric Difference: Finding elements in either set, but not in both.\n",
        "\n",
        " *When Order Doesn't Matter:\n",
        "Sets are unordered collections.\n",
        "If the order of elements is irrelevant for your use case, a set can be more efficient than a list.\n",
        "\n",
        "\n",
        "6. What is a string in Python, and how is it different from a list?\n",
        " - In Python, a string is an immutable sequence of characters. This means it's a series of letters, numbers, symbols, or spaces enclosed within single ('...') or double (\"...\") quotes.\n",
        "\n",
        "  *Key Characteristics of Strings:\n",
        "\n",
        " . Immutable: Once a string is created, you can't directly change its individual characters. Any operation that seems to modify a string actually creates a new string with the desired changes.\n",
        ". Ordered: Characters within a string have a specific order, and you can access them using their index (position).           \n",
        ". Iterable: You can loop through each character in a string.\n",
        "\n",
        " * Lists, on the other hand, are mutable ordered collections of objects. This means they can hold various data types (integers, floats, strings, even other lists) within them, and you can modify them after creation.\n",
        "\n",
        " *Key Characteristics of Lists:\n",
        "\n",
        " . Mutable: You can add, remove, or change elements within a list.  \n",
        " .Ordered: Elements in a list have a specific order, and you can access them using their index.\n",
        " .Versatile: Lists can hold any type of data, making them highly flexible.\n",
        "\n",
        "7.  How do tuples ensure data integrity in Python?\n",
        " - Immutability is the core feature that makes tuples an excellent tool for ensuring data integrity in Python. Once a tuple is created, its contents cannot be modified. This means that accidental changes or alterations to the data within a tuple are prevented.\n",
        "\n",
        "8.  What is a hash table, and how does it relate to dictionaries in Python?\n",
        " - Hash tables are a fundamental data structure that underpins many efficient algorithms. In Python, they are the foundation for dictionaries.\n",
        "  *Hash Tables and Dictionaries in Python   \n",
        " . Python dictionaries are implemented using hash tables.  \n",
        " .This is why dictionaries provide fast lookups and insertions of key-value pairs.  \n",
        "\n",
        "9. Can lists contain different data types in Python?\n",
        " - Yes, lists in Python can contain different data types. This is one of their key strengths and what makes them so versatile.\n",
        "\n",
        "   *Here's an example:\n",
        "  my_list = [10, \"hello\", 3.14, True]\n",
        "\n",
        " In this list:  \n",
        ".10 is an integer  \n",
        ".\"hello\" is a string  \n",
        ".3.14 is a float (a decimal number)  \n",
        ".True is a boolean (a value that can be either True or False)\n",
        "\n",
        "10. Explain why strings are immutable in Python?\n",
        " - Strings are immutable in Python for several important reasons, primarily tied to performance, security, and the simplicity of programming. Here's a detailed explanation:\n",
        "  1) Shared Storage: Python optimizes memory usage by allowing strings to be stored in a shared memory pool. This is possible only because strings are immutable—changes do not affect the original object.  \n",
        "  2)Strings are hashable, meaning their hash values remain constant throughout their lifetime. This is crucial because strings are commonly used as keys in dictionaries or elements in sets.  \n",
        "  3)Strings are often used to store sensitive data such as passwords or configuration values. Immutability ensures that:  \n",
        ".The data cannot be accidentally or maliciously altered.  \n",
        ".Functions that work with strings cannot unexpectedly modify the input string.\n",
        "\n",
        "11. What advantages do dictionaries offer over lists for certain tasks?\n",
        " - Dictionaries offer several advantages over lists in certain situations:\n",
        "\n",
        "  1. Fast Lookups:\n",
        " Dictionaries use a hash table: This data structure allows for incredibly fast lookups of values based on their associated keys.\n",
        "Lists require sequential search: To find a specific element in a list, you often need to iterate through each element until you find the desired one, which can be slower, especially for large lists.\n",
        " 2. Meaningful Data Association:  \n",
        " Dictionaries store data as key-value pairs: This provides a more meaningful way to organize data compared to lists, where elements are simply indexed by their position.\n",
        " Example:  \n",
        "List: [\"apple\", \"banana\", \"orange\"]\n",
        "Dictionary: {\"fruit1\": \"apple\", \"fruit2\": \"banana\", \"fruit3\": \"orange\"}\n",
        "The dictionary clearly associates names with the fruits, making it easier to understand and use.\n",
        " 3. Efficient Data Retrieval:  \n",
        " Direct access by key: You can directly access a value in a dictionary by providing its corresponding key, making data retrieval very efficient.\n",
        "\n",
        "12. Describe a scenario where using a tuple would be preferable over a list?\n",
        " - Why Tuples are Preferable:  \n",
        " .Immutability: Product dimensions are typically fixed and should not be modified after creation. Tuples, being immutable, enforce this constraint, preventing accidental changes to the dimensions.   \n",
        " .Data Integrity: By using a tuple, you ensure that the dimensions remain consistent throughout the program's execution, reducing the risk of errors caused by unintentional modifications.   \n",
        " .Hashing: Tuples can be used as keys in dictionaries. If you need to quickly look up product information based on its dimensions, using a tuple as the key in a dictionary would be efficient.\n",
        "\n",
        "13. How do sets handle duplicate values in Python?\n",
        " - In Python, sets inherently handle duplicate values by automatically removing them.  \n",
        ".Key Characteristic: Sets are designed to store only unique elements.   \n",
        ".Behavior: When you add an element to a set that already exists, the set remains unchanged.\n",
        "\n",
        "14. How does the “in” keyword work differently for lists and dictionaries?\n",
        " - The in keyword behaves differently for lists and dictionaries in Python:  \n",
        "Lists:  \n",
        ".Checks for membership: The in keyword checks if a specific value exists within the list.  \n",
        ".Returns a boolean: It returns True if the value is found in the list, and False otherwise.  \n",
        "Key Differences:  \n",
        ".Lists: Check for value membership.\n",
        ".Dictionaries: Check for key existence.\n",
        "\n",
        "15. Can you modify the elements of a tuple? Explain why or why not?\n",
        " - No, you cannot directly modify the elements of a tuple in Python.  \n",
        " .Why?  \n",
        "Immutability: Tuples are inherently immutable, meaning they are designed to be unchangeable once created. This is a fundamental characteristic of tuples.\n",
        "Attempting to modify a tuple will result in a TypeError.\n",
        "\n",
        "16. What is a nested dictionary, and give an example of its use case?\n",
        " - A nested dictionary is a dictionary where one or more values are themselves dictionaries. This creates a hierarchical structure, allowing you to represent complex, multi-layered data relationships.   \n",
        " inventory = {\n",
        "    \"electronics\": {\n",
        "        \"laptops\": {\n",
        "            \"Dell\": {\"price\": 1200, \"stock\": 5},\n",
        "            \"HP\": {\"price\": 1000, \"stock\": 3}\n",
        "        },\n",
        "        \"phones\": {\n",
        "            \"iPhone\": {\"price\": 800, \"stock\": 2},\n",
        "            \"Samsung\": {\"price\": 700, \"stock\": 8}\n",
        "        }\n",
        "    },\n",
        "    \"furniture\": {\n",
        "        \"tables\": {\n",
        "            \"oak\": {\"price\": 300, \"stock\": 10},\n",
        "            \"mahogany\": {\"price\": 500, \"stock\": 2}\n",
        "        },\n",
        "        \"chairs\": {\n",
        "            \"leather\": {\"price\": 200, \"stock\": 15},\n",
        "            \"fabric\": {\"price\": 150, \"stock\": 20}\n",
        "        }\n",
        "    }\n",
        "}  \n",
        "\n",
        " This nested dictionary structure effectively represents a product inventory system:  \n",
        " .Categories: The top-level keys (electronics, furniture) represent broad categories.  \n",
        ".Subcategories: Within each category, there are subcategories (laptops, phones, tables, chairs).  \n",
        ".Products: Each subcategory contains specific products (Dell, HP, iPhone, etc.).  \n",
        ".Product Details: For each product, we store details like price and stock availability.\n",
        "\n",
        "17.  Describe the time complexity of accessing elements in a dictionary?\n",
        " - The time complexity of accessing elements in a Python dictionary is O(1) on average.  \n",
        " *Explanation:  \n",
        ".Hash Tables: Python dictionaries are implemented using hash tables.\n",
        "Hashing: A hash function calculates a hash value for each key. This hash value helps to quickly locate the corresponding value within the dictionary.  \n",
        ".Constant Time: In most cases, accessing a value by its key in a dictionary takes constant time, regardless of the size of the dictionary. This means that the time taken to retrieve a value remains the same even as the dictionary grows larger.  \n",
        " *Worst-Case Scenario:  \n",
        ".Hash Collisions: In rare cases, hash collisions can occur. This happens when two or more keys have the same hash value.\n",
        "Linear Search: If hash collisions occur, the dictionary might need to perform a linear search within the bucket to find the correct key-value pair.  \n",
        ".O(n) Time Complexity: In the worst-case scenario with many collisions, the time complexity for accessing an element can degrade to O(n), where n is the number of elements in the bucket.\n",
        "\n",
        "18. In what situations are lists preferred over dictionaries?\n",
        " - Maintaining Order:  \n",
        "Lists preserve the order of elements, while dictionaries do not. If the order of elements is crucial for your application (e.g., a list of steps in a process), lists are the better choice.    \n",
        " *Allowing Duplicates:\n",
        "Lists can store duplicate values, while dictionaries cannot have duplicate keys. If you need to store a collection with potential duplicates, a list is necessary.   \n",
        " *Performing Sequential Operations:  \n",
        "Operations like iteration, slicing, and indexing are often more intuitive and efficient with lists.\n",
        " *When Key-Value Associations Are Not Needed:  \n",
        " If you simply need to store a collection of items without the need to associate them with unique keys, a list is a simpler and more straightforward choice.\n",
        "  \n",
        " Example:  \n",
        "Storing a list of to-do items: The order of tasks in a to-do list is often important, so a list would be a suitable choice.\n",
        "Collecting user inputs: You might store a list of user-provided values, allowing for potential duplicates.\n",
        "\n",
        "19. Why are dictionaries considered unordered, and how does that affect data retrieval?\n",
        " - Dictionaries in Python are considered unordered because they do not guarantee any specific order for the key-value pairs.\n",
        " *Here's why:  \n",
        " . Hash Tables: Dictionaries are implemented using hash tables. The order in which key-value pairs are stored in the hash table is determined by the hash function and how collisions are handled. This internal organization is not directly accessible or predictable.\n",
        " . Focus on Key-Based Access: The primary purpose of a dictionary is to provide fast lookups of values based on their associated keys. The order of the key-value pairs is not crucial for this primary function.\n",
        " *How Unordered Nature Affects Data Retrieval:  \n",
        " . No Reliance on Order: You cannot rely on the order of elements when iterating through a dictionary. If you need to access elements in a specific order, you should consider using an ordered data structure like a list or an ordered dictionary.\n",
        " . Efficient Lookups: The unordered nature of dictionaries does not hinder their efficiency in retrieving values based on their keys. Hash tables are designed to provide fast lookups, regardless of the order in which the key-value pairs are stored.\n",
        "\n",
        "\n",
        "20. Explain the difference between a list and a dictionary in terms of data retrieval.\n",
        " - Lists  \n",
        " . Access by Index: You retrieve elements in a list using their numerical index (position).     \n",
        " my_list = [10, 20, 30]\n",
        "first_element = my_list[0] # Accesses the first element (10)  \n",
        ". Sequential Access: To find a specific value, you often need to iterate through the list sequentially, which can be slower, especially for large lists\n",
        " *Dictionaries  \n",
        ". Access by Key: You retrieve values using their associated keys.\n",
        "my_dict = {'apple': 1, 'banana': 2, 'orange': 3}\n",
        "value_of_apple = my_dict['apple'] # Accesses the value associated with the key 'apple' (1)  \n",
        ". Direct Access: Dictionaries use a hash table internally, allowing for very fast lookups of values based on their keys. This typically takes constant time (O(1)), regardless of the dictionary's size.\n",
        "\n",
        "\n"
      ],
      "metadata": {
        "id": "L0Zypn95v9hO"
      }
    },
    {
      "cell_type": "code",
      "execution_count": null,
      "metadata": {
        "id": "dfUCsrjfviWt"
      },
      "outputs": [],
      "source": []
    },
    {
      "cell_type": "code",
      "source": [
        "#Write a code to create a string with your name and print it.\n",
        "...\n",
        "name = \"Pranav\"\n",
        "\n",
        "print(name)\n",
        "..."
      ],
      "metadata": {
        "colab": {
          "base_uri": "https://localhost:8080/"
        },
        "id": "vExgm4R3Bz2q",
        "outputId": "df1ccae8-22d3-4cd0-eb66-443706a07a94"
      },
      "execution_count": 1,
      "outputs": [
        {
          "output_type": "stream",
          "name": "stdout",
          "text": [
            "Pranav\n"
          ]
        }
      ]
    },
    {
      "cell_type": "code",
      "source": [
        "#Write a code to find the length of the string \"Hello World\".\n",
        "...\n",
        "my_string = \"Hello World\"\n",
        "string_length = len(my_string)\n",
        "\n",
        "print(\"The length of the string is:\", string_length)\n",
        "..."
      ],
      "metadata": {
        "colab": {
          "base_uri": "https://localhost:8080/"
        },
        "id": "6ReiaKZFCbew",
        "outputId": "cb6da349-7a2b-4689-c5a2-b14f473566d9"
      },
      "execution_count": 2,
      "outputs": [
        {
          "output_type": "stream",
          "name": "stdout",
          "text": [
            "The length of the string is: 11\n"
          ]
        }
      ]
    },
    {
      "cell_type": "code",
      "source": [
        "#Write a code to slice the first 3 characters from the string \"Python Programming\".\n",
        "...\n",
        "text = \"Python Programming\"\n",
        "\n",
        "sliced_text = text[:3]\n",
        "\n",
        "print(sliced_text)\n",
        "..."
      ],
      "metadata": {
        "colab": {
          "base_uri": "https://localhost:8080/"
        },
        "id": "OUgT5ftpC3xN",
        "outputId": "9b67aba9-2e6e-46e0-96a3-65c8d0ccd5b1"
      },
      "execution_count": 6,
      "outputs": [
        {
          "output_type": "stream",
          "name": "stdout",
          "text": [
            "Pyt\n"
          ]
        }
      ]
    },
    {
      "cell_type": "code",
      "source": [
        "# Write a code to convert the string \"hello\" to uppercase.\n",
        "...\n",
        "text = \"hello\"\n",
        "\n",
        "uppercase_text = text.upper()\n",
        "\n",
        "print(uppercase_text)\n",
        "..."
      ],
      "metadata": {
        "colab": {
          "base_uri": "https://localhost:8080/"
        },
        "id": "JlC7PbepDfMV",
        "outputId": "b1cf7bc9-8b8f-461e-9075-ba6da7107589"
      },
      "execution_count": 7,
      "outputs": [
        {
          "output_type": "stream",
          "name": "stdout",
          "text": [
            "HELLO\n"
          ]
        }
      ]
    },
    {
      "cell_type": "code",
      "source": [
        "#Write a code to replace the word \"apple\" with \"orange\" in the string \"I like apple\".\n",
        "...\n",
        "text = \"I like apple\"\n",
        "\n",
        "updated_text = text.replace(\"apple\", \"orange\")\n",
        "\n",
        "print(updated_text)\n",
        "..."
      ],
      "metadata": {
        "colab": {
          "base_uri": "https://localhost:8080/"
        },
        "id": "bFbqwfStETuT",
        "outputId": "15e40e7f-3eee-456b-a2d2-e4d8a833b0a6"
      },
      "execution_count": 8,
      "outputs": [
        {
          "output_type": "stream",
          "name": "stdout",
          "text": [
            "I like orange\n"
          ]
        }
      ]
    },
    {
      "cell_type": "code",
      "source": [
        "#Write a code to create a list with numbers 1 to 5 and print it.\n",
        "...\n",
        "number = [1,2,3,4,5]\n",
        "\n",
        "print(number)\n",
        "..."
      ],
      "metadata": {
        "colab": {
          "base_uri": "https://localhost:8080/"
        },
        "id": "gjHutKXBFAGT",
        "outputId": "8631bab6-f920-4a55-a66b-a0efdc039bdc"
      },
      "execution_count": 9,
      "outputs": [
        {
          "output_type": "stream",
          "name": "stdout",
          "text": [
            "[1, 2, 3, 4, 5]\n"
          ]
        }
      ]
    },
    {
      "cell_type": "code",
      "source": [
        "#Write a code to append the number 10 to the list [1, 2, 3, 4].\n",
        "...\n",
        "numbers = [1, 2, 3, 4]\n",
        "\n",
        "numbers.append(10)\n",
        "\n",
        "print(numbers)\n",
        "..."
      ],
      "metadata": {
        "colab": {
          "base_uri": "https://localhost:8080/"
        },
        "id": "w0rihtQUF6KO",
        "outputId": "75d8551b-ab0e-47e2-a174-c67a59c239e6"
      },
      "execution_count": 10,
      "outputs": [
        {
          "output_type": "stream",
          "name": "stdout",
          "text": [
            "[1, 2, 3, 4, 10]\n"
          ]
        }
      ]
    },
    {
      "cell_type": "code",
      "source": [
        "#Write a code to remove the number 3 from the list [1, 2, 3, 4, 5].\n",
        "...\n",
        "numbers = [1, 2, 3, 4, 5]\n",
        "\n",
        "numbers.remove(3)\n",
        "\n",
        "print(numbers)\n",
        "..."
      ],
      "metadata": {
        "colab": {
          "base_uri": "https://localhost:8080/"
        },
        "id": "szk5ObDvHO3S",
        "outputId": "21aa3a08-14c7-4dcc-b5f1-4ca81d4b4547"
      },
      "execution_count": 11,
      "outputs": [
        {
          "output_type": "stream",
          "name": "stdout",
          "text": [
            "[1, 2, 4, 5]\n"
          ]
        }
      ]
    },
    {
      "cell_type": "code",
      "source": [
        "#Write a code to access the second element in the list ['a', 'b', 'c', 'd']\n",
        "...\n",
        "list = ['a', 'b', 'c', 'd']\n",
        "\n",
        "second_element = list[1]\n",
        "\n",
        "print(\"The second element in the list is:\", second_element)\n",
        "..."
      ],
      "metadata": {
        "colab": {
          "base_uri": "https://localhost:8080/"
        },
        "id": "AznYHVdXIR4n",
        "outputId": "53aec55f-1cee-44de-bbd7-106aaafed16e"
      },
      "execution_count": 12,
      "outputs": [
        {
          "output_type": "stream",
          "name": "stdout",
          "text": [
            "The second element in the list is: b\n"
          ]
        }
      ]
    },
    {
      "cell_type": "code",
      "source": [
        "#Write a code to reverse the list [10, 20, 30, 40, 50].\n",
        "...\n",
        "numbers = [10, 20, 30, 40, 50]\n",
        "\n",
        "numbers.reverse()\n",
        "\n",
        "print(numbers)\n",
        "..."
      ],
      "metadata": {
        "colab": {
          "base_uri": "https://localhost:8080/"
        },
        "id": "j7zZNzXiI7eO",
        "outputId": "f7f2f639-4d05-4912-d589-4fcc8f76616e"
      },
      "execution_count": 16,
      "outputs": [
        {
          "output_type": "stream",
          "name": "stdout",
          "text": [
            "[50, 40, 30, 20, 10]\n"
          ]
        }
      ]
    },
    {
      "cell_type": "code",
      "source": [
        "#Write a code to create a tuple with the elements 10, 20, 30 and print it.\n",
        "...\n",
        "tuple = (10, 20, 30)\n",
        "\n",
        "print(tuple)\n",
        "..."
      ],
      "metadata": {
        "colab": {
          "base_uri": "https://localhost:8080/"
        },
        "id": "YniTJSBoJN98",
        "outputId": "9e1f28c4-f9bd-4d2b-9938-1fb6fc04618d"
      },
      "execution_count": 14,
      "outputs": [
        {
          "output_type": "stream",
          "name": "stdout",
          "text": [
            "(10, 20, 30)\n"
          ]
        }
      ]
    },
    {
      "cell_type": "code",
      "source": [
        "#Write a code to access the first element of the tuple ('apple', 'banana', 'cherry').\n",
        "...\n",
        "tuple = ('apple', 'banana', 'cherry')\n",
        "\n",
        "first_element = tuple[0]\n",
        "\n",
        "print(first_element)\n",
        "..."
      ],
      "metadata": {
        "colab": {
          "base_uri": "https://localhost:8080/"
        },
        "id": "OprBatnWJnpq",
        "outputId": "008985d6-56e0-4b75-a23a-9ec298085fdd"
      },
      "execution_count": 15,
      "outputs": [
        {
          "output_type": "stream",
          "name": "stdout",
          "text": [
            "apple\n"
          ]
        }
      ]
    },
    {
      "cell_type": "code",
      "source": [
        "# Write a code to count how many times the number 2 appears in the tuple (1, 2, 3, 2, 4, 2).\n",
        "...\n",
        "tuple = (1, 2, 3, 2, 4, 2)\n",
        "\n",
        "count_of_2 = tuple.count(2)\n",
        "\n",
        "print(count_of_2)\n",
        "...\n"
      ],
      "metadata": {
        "colab": {
          "base_uri": "https://localhost:8080/"
        },
        "id": "DkIWIDvaKaKn",
        "outputId": "0530a6a5-e6be-4207-8694-70f7c812038b"
      },
      "execution_count": 18,
      "outputs": [
        {
          "output_type": "stream",
          "name": "stdout",
          "text": [
            "3\n"
          ]
        }
      ]
    },
    {
      "cell_type": "code",
      "source": [
        "#Write a code to find the index of the element \"cat\" in the tuple ('dog', 'cat', 'rabbit').\n",
        "...\n",
        "tuple = ('dog', 'cat', 'rabbit')\n",
        "\n",
        "index_of_cat = tuple.index('cat')\n",
        "\n",
        "print(index_of_cat)\n",
        "..."
      ],
      "metadata": {
        "colab": {
          "base_uri": "https://localhost:8080/"
        },
        "id": "sBgBaXd-K0pM",
        "outputId": "b5a40ac5-0a48-43be-d253-b755b9f29792"
      },
      "execution_count": 19,
      "outputs": [
        {
          "output_type": "stream",
          "name": "stdout",
          "text": [
            "1\n"
          ]
        }
      ]
    },
    {
      "cell_type": "code",
      "source": [
        "#Write a code to check if the element \"banana\" is in the tuple ('apple', 'orange', 'banana').\n",
        "...\n",
        "tuple = ('apple', 'orange', 'banana')\n",
        "\n",
        "is_banana_in_tuple = 'banana' in tuple\n",
        "\n",
        "print(is_banana_in_tuple)\n",
        "..."
      ],
      "metadata": {
        "colab": {
          "base_uri": "https://localhost:8080/"
        },
        "id": "OYCvBl5PLWtR",
        "outputId": "db492c9f-f21c-4729-e22a-076d783bd89c"
      },
      "execution_count": 20,
      "outputs": [
        {
          "output_type": "stream",
          "name": "stdout",
          "text": [
            "True\n"
          ]
        }
      ]
    },
    {
      "cell_type": "code",
      "source": [
        "#Write a code to create a set with the elements 1, 2, 3, 4, 5 and print it.\n",
        "...\n",
        "set = {1, 2, 3, 4, 5}\n",
        "\n",
        "print(set)\n",
        "..."
      ],
      "metadata": {
        "colab": {
          "base_uri": "https://localhost:8080/"
        },
        "id": "6XXwqzF6LvPJ",
        "outputId": "1704b5e4-1fc5-447e-8d3b-5ad71913d33e"
      },
      "execution_count": 21,
      "outputs": [
        {
          "output_type": "stream",
          "name": "stdout",
          "text": [
            "{1, 2, 3, 4, 5}\n"
          ]
        }
      ]
    },
    {
      "cell_type": "code",
      "source": [
        "#Write a code to add the element 6 to the set {1, 2, 3, 4}.\n",
        "...\n",
        "set = {1, 2, 3, 4}\n",
        "\n",
        "set.add(6)\n",
        "\n",
        "print(set)\n",
        "..."
      ],
      "metadata": {
        "colab": {
          "base_uri": "https://localhost:8080/"
        },
        "id": "ewrAIXxBMLH5",
        "outputId": "f0b7a1c1-0112-4e48-d7a6-807696c28e62"
      },
      "execution_count": 22,
      "outputs": [
        {
          "output_type": "stream",
          "name": "stdout",
          "text": [
            "{1, 2, 3, 4, 6}\n"
          ]
        }
      ]
    }
  ]
}